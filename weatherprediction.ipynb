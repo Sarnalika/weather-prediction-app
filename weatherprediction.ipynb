{
 "cells": [
  {
   "cell_type": "markdown",
   "metadata": {},
   "source": [
    "Section 1 : Import Libraries \n"
   ]
  },
  {
   "cell_type": "code",
   "execution_count": 41,
   "metadata": {},
   "outputs": [],
   "source": [
    "import requests #This helps us to fetch data from API's\n",
    "import pandas as pd # for handling and analysing data\n",
    "import numpy as np #for numerical operation\n",
    "from sklearn.model_selection import train_test_split#to split data into training and testing sets\n",
    "from sklearn.preprocessing import LabelEncoder # to convert categorical data into numerical values\n",
    "from sklearn.ensemble import RandomForestClassifier, RandomForestRegressor # models for classification and regression task\n",
    "from sklearn.metrics import mean_squared_error # to measure the accuracy of our prediction \n",
    "from datetime import datetime,timedelta # to handle date and time\n",
    "import pytz"
   ]
  },
  {
   "cell_type": "code",
   "execution_count": 42,
   "metadata": {},
   "outputs": [],
   "source": [
    "API_KEY= 'f56a46e05986fbfd15778c52e89945d4' \n",
    "BASE_URL='https://api.openweathermap.org/data/2.5/' # base url for making API request\n"
   ]
  },
  {
   "cell_type": "markdown",
   "metadata": {},
   "source": [
    "1. Fetch Current WEather Data"
   ]
  },
  {
   "cell_type": "code",
   "execution_count": 43,
   "metadata": {},
   "outputs": [],
   "source": [
    "def get_current_weather(city):\n",
    "    url=f\"{BASE_URL}weather?q={city}&appid={API_KEY}&units=metric\"#easily insert variable into a string format\n",
    "    response=requests.get(url)# send the get request to API\n",
    "    data = response.json()\n",
    "    return {\n",
    "        'city':data['name'],\n",
    "        'current_temp' : round(data['main']['temp']),\n",
    "        'feels_like' : round(data['main']['feels_like']),\n",
    "        'temp_min' : round(data['main']['temp_min']),\n",
    "        'temp_max' : round(data['main']['temp_max']),\n",
    "        'humidity' : round(data['main']['humidity']),\n",
    "        'description' : data['weather'][0]['description'],\n",
    "        'country' : data['sys']['country'],\n",
    "        'wind_gust_dir':data['wind']['deg'],\n",
    "        'pressure':data['main']['pressure'],\n",
    "        'WindGustSpeed':data['wind']['speed']\n",
    "}"
   ]
  },
  {
   "cell_type": "markdown",
   "metadata": {},
   "source": [
    "2.Read Historical data"
   ]
  },
  {
   "cell_type": "code",
   "execution_count": 44,
   "metadata": {},
   "outputs": [],
   "source": [
    "def read_historical_data(filename):\n",
    "    df=pd.read_csv(filename) # load csv file into dataframe\n",
    "    df =df.dropna() # remove rows with missing values\n",
    "    df = df.drop_duplicates()\n",
    "    return df"
   ]
  },
  {
   "cell_type": "markdown",
   "metadata": {},
   "source": [
    "3.Prepare data For training"
   ]
  },
  {
   "cell_type": "code",
   "execution_count": 45,
   "metadata": {},
   "outputs": [],
   "source": [
    "def prepare_data(data):\n",
    "    le = LabelEncoder() # create a labelencoder instance\n",
    "    data['WindGustDir'] = le.fit_transform(data['WindGustDir'])\n",
    "    data['RainTomorrow'] = le.fit_transform(data['RainTomorrow'])\n",
    "    # define the feature and target variables\n",
    "    X =data[['MinTemp','MaxTemp','WindGustDir','WindGustSpeed','Humidity','Pressure','Temp']] # Features variables\n",
    "    y= data['RainTomorrow'] # target variable\n",
    "    return X,y, le  # return feature variable ,target variable and label encoder\n"
   ]
  },
  {
   "cell_type": "markdown",
   "metadata": {},
   "source": [
    "4.Train Rain Prediction Model"
   ]
  },
  {
   "cell_type": "code",
   "execution_count": 46,
   "metadata": {},
   "outputs": [],
   "source": [
    "def train_rain_model(X,y):\n",
    "    X_train,X_test,y_train,y_test=train_test_split(X,y,test_size=0.2,random_state=42)\n",
    "    model=RandomForestClassifier(n_estimators=100,random_state=42)\n",
    "    model.fit(X_train,y_train)\n",
    "    y_pred=model.predict(X_test)\n",
    "    print(\"Mean Squared Error For  Rain Model\")\n",
    "    print(mean_squared_error(y_test,y_pred))\n",
    "    return model "
   ]
  },
  {
   "cell_type": "markdown",
   "metadata": {},
   "source": [
    "5.Prepare regression data"
   ]
  },
  {
   "cell_type": "code",
   "execution_count": 47,
   "metadata": {},
   "outputs": [],
   "source": [
    "def prepare_regression_data(data,features):\n",
    "    X,y=[],[]#Initialize list for feature and target values\n",
    "\n",
    "\n",
    "    for i in range(len(data)-1):\n",
    "        X.append(data[features].iloc[i])\n",
    "        y.append(data[features].iloc[i+1])\n",
    "    X=np.array(X).reshape(-1,1)\n",
    "    y=np.array(y)\n",
    "    return X,y\n",
    "    "
   ]
  },
  {
   "cell_type": "markdown",
   "metadata": {},
   "source": [
    "6.Train Regression Model"
   ]
  },
  {
   "cell_type": "code",
   "execution_count": 48,
   "metadata": {},
   "outputs": [],
   "source": [
    "def train_regression_model(X,y):\n",
    "    model= RandomForestRegressor(n_estimators=100,random_state=42)\n",
    "    model.fit(X,y)\n",
    "    return model"
   ]
  },
  {
   "cell_type": "markdown",
   "metadata": {},
   "source": [
    "Predict Future"
   ]
  },
  {
   "cell_type": "code",
   "execution_count": 49,
   "metadata": {},
   "outputs": [],
   "source": [
    "def predict_future(model,current_value):\n",
    "    predictions=[current_value]\n",
    "    for i in range(5):\n",
    "        next_value=model.predict(np.array([[predictions[-1]]]))\n",
    "\n",
    "        predictions.append(next_value[0])\n",
    "    return predictions[1:]\n",
    "\n",
    "\n",
    "\n"
   ]
  },
  {
   "cell_type": "markdown",
   "metadata": {},
   "source": [
    "Weather Analysis Function                          ts"
   ]
  },
  {
   "cell_type": "code",
   "execution_count": 56,
   "metadata": {},
   "outputs": [
    {
     "name": "stdout",
     "output_type": "stream",
     "text": [
      "Mean Squared Error For  Rain Model\n",
      "0.1506849315068493\n",
      "city:Kolkata,IN\n",
      "Current Temperature:26\n",
      "Feels_Like:26\n",
      "Minimum Temperature:26°C\n",
      "Maximum Temperature:26°C\n",
      "Humidity:61\n",
      "Weather Prediction:haze\n",
      "Rain Prediction:Yes\n",
      "\n",
      " Future Temperature Predictions:\n",
      "14:00:28.2°C\n",
      "15:00:20.4°C\n",
      "16:00:22.2°C\n",
      "17:00:22.7°C\n",
      "18:00:25.0°C\n",
      "\n",
      "Future Humidity Predictions:\n",
      "14:00:58.3%\n",
      "15:00:54.2%\n",
      "16:00:58.1%\n",
      "17:00:54.2%\n",
      "18:00:58.1%\n"
     ]
    }
   ],
   "source": [
    "def weather_view():\n",
    "    city=input(\"enter the city name:\")\n",
    "    current_weather=get_current_weather(city)\n",
    "    #load historical data\n",
    "    historical_data=read_historical_data('C:/Users/Sarnalika/OneDrive/Documents/Project/WEATHER_FORECAST/weather.csv')\n",
    "    #prepare and train the rain prediction model\n",
    "    X,y,le=prepare_data(historical_data)\n",
    "    rain_model=train_rain_model(X,y)\n",
    "\n",
    "    #map wind direction to campass points\n",
    "    wind_deg = current_weather['wind_gust_dir'] % 360\n",
    "    compass_points = [\n",
    "        (\"N\",0,11.25),(\"NNE\",11.25,33.75),(\"NE\",33.75,56.25),\n",
    "        (\"ENE\",56.25,78.75),(\"E\",78.75,101.25),(\"ESE\",101.25,123.75),\n",
    "        (\"SE\",123.75,146.25),(\"SSE\",146.25,168.75),(\"S\",168.75,191.25),\n",
    "        (\"SSW\",191.25,213.75),(\"SW\",213.75,236.25),(\"WSW\",236.25,258.75),\n",
    "        (\"W\",258.75,281.25),(\"WNW\",281.25,303.75),(\"NW\",303.75,326.25),\n",
    "        (\"NNW\",326.25,348.75)\n",
    "    ]\n",
    "\n",
    "\n",
    "    compass_direction= next(point for point ,start,end in compass_points if start<=wind_deg<end)\n",
    "    compass_direction_encoded=le.transform([compass_direction])[0] if compass_direction in le.classes_ else -1\n",
    "\n",
    "    current_data={\n",
    "        'MinTemp': current_weather['temp_min'],\n",
    "        'MaxTemp': current_weather['temp_max'],\n",
    "        'WindGustDir':compass_direction_encoded,\n",
    "        'WindGustSpeed':current_weather['WindGustSpeed'],\n",
    "        'Humidity':current_weather['humidity'],\n",
    "        'Pressure':current_weather['pressure'],\n",
    "        'Temp':current_weather['current_temp'],\n",
    "        \n",
    "    }\n",
    "    current_df=pd.DataFrame([current_data])\n",
    "\n",
    "    #rain prediction\n",
    "    rain_prediction=rain_model.predict(current_df)[0]\n",
    "    #prepare regression model for temperature and humidity\n",
    "    X_temp,y_temp = prepare_regression_data(historical_data,'Temp')\n",
    "    X_hum,y_hum = prepare_regression_data(historical_data,'Humidity')\n",
    "    temp_model= train_regression_model(X_temp,y_temp)\n",
    "    hum_model= train_regression_model(X_hum,y_hum)\n",
    "    # predict future temperature and humidity\n",
    "    future_temp=predict_future(temp_model,current_weather['temp_min'])\n",
    "    future_humidity=predict_future(hum_model,current_weather['humidity'])\n",
    "    #prepare time for future predictions\n",
    "    time_zone=pytz.timezone('Asia/Kolkata')\n",
    "    now=datetime.now(time_zone)\n",
    "    next_hour=now + timedelta(hours=1)\n",
    "    next_hour=next_hour.replace(minute=0,second=0,microsecond=0)\n",
    "\n",
    "    future_times=[(next_hour + timedelta(hours=i)).strftime(\"%H:00\") for i in range(5)]\n",
    "    #display results\n",
    "\n",
    "    print(f\"city:{city},{current_weather['country']}\")\n",
    "    print(f\"Current Temperature:{current_weather['current_temp']}\")\n",
    "    print(f\"Feels_Like:{current_weather['feels_like']}\")\n",
    "    print(f\"Minimum Temperature:{current_weather['temp_min']}°C\")\n",
    "    print(f\"Maximum Temperature:{current_weather['temp_max']}°C\")\n",
    "    print(f\"Humidity:{current_weather['humidity']}\")\n",
    "    print(f\"Weather Prediction:{current_weather['description']}\")\n",
    "    print(f\"Rain Prediction:{'Yes' if rain_prediction else 'No'}\")\n",
    "\n",
    "    print(\"\\n Future Temperature Predictions:\")\n",
    "\n",
    "    for time,temp in zip(future_times,future_temp):\n",
    "        print(f\"{time}:{round(temp,1)}°C\")\n",
    "\n",
    "    print(\"\\nFuture Humidity Predictions:\")\n",
    "\n",
    "    for time,humidity in zip(future_times,future_humidity):\n",
    "        print(f\"{time}:{round(humidity,1)}%\")\n",
    "\n",
    "weather_view()   \n",
    "    "
   ]
  },
  {
   "cell_type": "code",
   "execution_count": null,
   "metadata": {},
   "outputs": [],
   "source": []
  }
 ],
 "metadata": {
  "kernelspec": {
   "display_name": "Python 3",
   "language": "python",
   "name": "python3"
  },
  "language_info": {
   "codemirror_mode": {
    "name": "ipython",
    "version": 3
   },
   "file_extension": ".py",
   "mimetype": "text/x-python",
   "name": "python",
   "nbconvert_exporter": "python",
   "pygments_lexer": "ipython3",
   "version": "3.12.5"
  }
 },
 "nbformat": 4,
 "nbformat_minor": 2
}
